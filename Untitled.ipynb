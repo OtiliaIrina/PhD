{
 "cells": [
  {
   "cell_type": "code",
   "execution_count": 2,
   "id": "dd7e8a3f-5da1-4489-b784-e4dd50f04fa5",
   "metadata": {},
   "outputs": [],
   "source": [
    "#See below for various directories (texts in {} should be changed):\n",
    "\n",
    "#raw: /global/cfs/cdirs/desicollab/users/lauracdp/photo-z_box/lya_mocks/mock_analysis/qq_desi_y5/skewers_desi_footprint.5/analysis-{sim_num}/jura-0/raw/deltas_lya/Delta/\n",
    "#true continuum / picca continuum: /global/cfs/cdirs/desicollab/users/lauracdp/photo-z_box/lya_mocks/mock_analysis/qq_desi_y5/skewers_desi_footprint.5/analysis-{sim_num}/jura-0/{true_cont/unconatminated}/deltas_lya/Delta/\n",
    "#Lycan  continuum: /global/cfs/cdirs/desi/users/wmturner/photo-z/deltas/mock-{sim_num}/jura-0/noSNRcut/Delta/\n",
    "#Lycan continuum with contamination: /global/cfs/cdirs/desi/users/wmturner/photo-z/deltas/mock-{sim_num}/jura-124/noSNRcut/Delta/"
   ]
  },
  {
   "cell_type": "code",
   "execution_count": 3,
   "id": "34f2c706-c3b4-45b2-bd0b-a6dbaaf5032d",
   "metadata": {},
   "outputs": [
    {
     "name": "stdout",
     "output_type": "stream",
     "text": [
      "Codes\t picca\t\t   run_picca_cf.sbatch\tTest.ipynb\tuntitled.py\n",
      "outputs  Picca_test.ipynb  test\t\t\tUntitled.ipynb\tuntitled.txt\n"
     ]
    }
   ],
   "source": [
    "!ls"
   ]
  },
  {
   "cell_type": "code",
   "execution_count": null,
   "id": "975d4053-4498-4378-85c0-9c7aca65f7f0",
   "metadata": {},
   "outputs": [],
   "source": []
  }
 ],
 "metadata": {
  "kernelspec": {
   "display_name": "lya",
   "language": "python",
   "name": "lya"
  },
  "language_info": {
   "codemirror_mode": {
    "name": "ipython",
    "version": 3
   },
   "file_extension": ".py",
   "mimetype": "text/x-python",
   "name": "python",
   "nbconvert_exporter": "python",
   "pygments_lexer": "ipython3",
   "version": "3.10.19"
  }
 },
 "nbformat": 4,
 "nbformat_minor": 5
}
